{
 "cells": [
  {
   "cell_type": "code",
   "execution_count": 1,
   "metadata": {},
   "outputs": [],
   "source": [
    "import os, pandas as pd\n",
    "from dotenv import load_dotenv\n",
    "from utility import Utils as U\n",
    "import sqlalchemy"
   ]
  },
  {
   "cell_type": "markdown",
   "metadata": {},
   "source": [
    "#### Pull tables to staging schema"
   ]
  },
  {
   "cell_type": "code",
   "execution_count": 2,
   "metadata": {},
   "outputs": [],
   "source": [
    "load_dotenv()\n",
    "conn = U.create_db_connection(os.getenv('username'), os.getenv('password'),os.getenv('db_host'),os.getenv('db_name') )"
   ]
  },
  {
   "cell_type": "code",
   "execution_count": null,
   "metadata": {},
   "outputs": [],
   "source": [
    "# same as before is there a shorter less repetitive way of pulling all tables?"
   ]
  },
  {
   "cell_type": "code",
   "execution_count": 3,
   "metadata": {},
   "outputs": [
    {
     "name": "stdout",
     "output_type": "stream",
     "text": [
      "     index  Country id                        Country name  \\\n",
      "0        0           1                              Uganda   \n",
      "1        1           2  Venezuela (Bolivarian Republic of)   \n",
      "2        2           3                             Hungary   \n",
      "3        3           4                             Ireland   \n",
      "4        4           5                            Thailand   \n",
      "..     ...         ...                                 ...   \n",
      "144    144         145                                Togo   \n",
      "145    145         146                          Montenegro   \n",
      "146    146         147                                Chad   \n",
      "147    147         148                                Oman   \n",
      "148    148         149                             Algeria   \n",
      "\n",
      "                             Regions  \n",
      "0                             Africa  \n",
      "1    Latin America and the Caribbean  \n",
      "2                    Eastern Europe   \n",
      "3            Western Europe & Others  \n",
      "4                       Asia-Pacific  \n",
      "..                               ...  \n",
      "144                           Africa  \n",
      "145                  Eastern Europe   \n",
      "146                           Africa  \n",
      "147                     Asia-Pacific  \n",
      "148                           Africa  \n",
      "\n",
      "[149 rows x 4 columns]\n"
     ]
    }
   ],
   "source": [
    "Countries_df = U.fetch_db_table('Countries', conn, 'Staging')\n",
    "Themes_df = U.fetch_db_table('Themes', conn, 'Staging')\n",
    "Regions_df = U.fetch_db_table('Regions', conn, 'Staging')\n",
    "Recommendations_df = U.fetch_db_table('Recommendations', conn, 'Staging')\n",
    "tags_df = U.fetch_db_table('Tags', conn, 'Staging')\n",
    "tags_matrix = U.fetch_db_table('TagsMatrix', conn, 'Staging')"
   ]
  },
  {
   "cell_type": "code",
   "execution_count": null,
   "metadata": {},
   "outputs": [],
   "source": [
    "Countries_df = Countries_df.merge(Regions_df, left_on=\"Regions\", right_on=\"Regions\")\n",
    "Countries_df = Countries_df.drop(columns=[\"Regions\"])"
   ]
  },
  {
   "cell_type": "code",
   "execution_count": null,
   "metadata": {},
   "outputs": [],
   "source": [
    "Country_to_recommendations = df3[['Countries Concerned','UPR Recommending States']]\n",
    "Country_to_recommendations.index = Country_to_recommendations.index.set_names(['Recommendation_id'])\n",
    "Country_to_recommendations = Country_to_recommendations.reset_index(level=0).drop_duplicates(subset='Recommendation_id', keep='first')\n",
    "Country_to_recommendations = Country_to_recommendations.merge(Countries_df[[\"Country name\",\"Country id\"]], left_on='Countries Concerned', right_on='Country name')\n",
    "Country_to_recommendations = Country_to_recommendations.drop(columns=['Countries Concerned','Country name']).rename(columns={\"Country id\": \"Countries Concerned\"})\n",
    "Country_to_recommendations = Country_to_recommendations.merge(Countries_df[[\"Country name\",\"Country id\"]], left_on='UPR Recommending States', right_on='Country name')\n",
    "Country_to_recommendations = Country_to_recommendations.drop(columns=['UPR Recommending States','Country name']).rename(columns={\"Country id\": \"UPR Recommending States\"})"
   ]
  },
  {
   "cell_type": "code",
   "execution_count": null,
   "metadata": {},
   "outputs": [],
   "source": [
    "Recommendation_to_theme = UPR_cycle_cleaned[['Themes']]\n",
    "Recommendation_to_theme.index = Recommendation_to_theme.index.set_names(['Recommendation id'])\n",
    "Recommendation_to_theme = Recommendation_to_theme.reset_index(level=0)"
   ]
  },
  {
   "cell_type": "code",
   "execution_count": null,
   "metadata": {},
   "outputs": [],
   "source": [
    "Recommendation_to_theme = Recommendation_to_theme.merge(Themes_df, left_on='Themes', right_on='Themes')\n",
    "Recommendation_to_theme = Recommendation_to_theme.drop(columns=['Themes']).rename(columns={'Theme id':'Themes'})"
   ]
  },
  {
   "cell_type": "code",
   "execution_count": null,
   "metadata": {},
   "outputs": [],
   "source": [
    "tags_to_themes = pd.melt(tags_matrix, value_vars=tags_matrix.columns.tolist(), var_name='Tag', value_name='Theme')\n",
    "tags_to_themes = tags_to_themes.merge(tags_df[[\"Tags\",\"Tag id\"]], left_on='Tag', right_on='Tags').drop(columns=['Tags', 'Tag'])\n",
    "tags_to_themes = tags_to_themes.merge(Themes_df[[\"Themes\",\"Theme id\"]], left_on='Theme', right_on='Themes').drop(columns=['Themes', 'Theme'])"
   ]
  },
  {
   "cell_type": "markdown",
   "metadata": {},
   "source": [
    "### Normalized join table Dataframes"
   ]
  },
  {
   "cell_type": "code",
   "execution_count": null,
   "metadata": {},
   "outputs": [],
   "source": [
    "Country_to_recommendations"
   ]
  },
  {
   "cell_type": "code",
   "execution_count": null,
   "metadata": {},
   "outputs": [],
   "source": [
    "Recommendation_to_theme"
   ]
  },
  {
   "cell_type": "code",
   "execution_count": null,
   "metadata": {},
   "outputs": [],
   "source": [
    "tags_to_themes"
   ]
  },
  {
   "cell_type": "markdown",
   "metadata": {},
   "source": [
    "#### Upload tables to Production schema"
   ]
  },
  {
   "cell_type": "markdown",
   "metadata": {},
   "source": []
  }
 ],
 "metadata": {
  "language_info": {
   "name": "python"
  },
  "orig_nbformat": 4
 },
 "nbformat": 4,
 "nbformat_minor": 2
}

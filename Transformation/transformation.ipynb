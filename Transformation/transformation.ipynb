{
 "cells": [
  {
   "cell_type": "markdown",
   "metadata": {},
   "source": [
    "#### Pull tables to staging schema"
   ]
  },
  {
   "cell_type": "code",
   "execution_count": null,
   "metadata": {},
   "outputs": [],
   "source": []
  },
  {
   "cell_type": "code",
   "execution_count": null,
   "metadata": {},
   "outputs": [],
   "source": [
    "Countries_df = Countries_df.merge(Regions_df, left_on=\"Regions\", right_on=\"Regions\")\n",
    "Countries_df = Countries_df.drop(columns=[\"Regions\"])"
   ]
  },
  {
   "cell_type": "code",
   "execution_count": null,
   "metadata": {},
   "outputs": [],
   "source": [
    "Country_to_recommendations = df3[['Countries Concerned','UPR Recommending States']]\n",
    "Country_to_recommendations.index = Country_to_recommendations.index.set_names(['Recommendation_id'])\n",
    "Country_to_recommendations = Country_to_recommendations.reset_index(level=0).drop_duplicates(subset='Recommendation_id', keep='first')\n",
    "Country_to_recommendations = Country_to_recommendations.merge(Countries_df[[\"Country name\",\"Country id\"]], left_on='Countries Concerned', right_on='Country name')\n",
    "Country_to_recommendations = Country_to_recommendations.drop(columns=['Countries Concerned','Country name']).rename(columns={\"Country id\": \"Countries Concerned\"})\n",
    "Country_to_recommendations = Country_to_recommendations.merge(Countries_df[[\"Country name\",\"Country id\"]], left_on='UPR Recommending States', right_on='Country name')\n",
    "Country_to_recommendations = Country_to_recommendations.drop(columns=['UPR Recommending States','Country name']).rename(columns={\"Country id\": \"UPR Recommending States\"})"
   ]
  },
  {
   "cell_type": "code",
   "execution_count": null,
   "metadata": {},
   "outputs": [],
   "source": [
    "Recommendation_to_theme = UPR_cycle_cleaned[['Themes']]\n",
    "Recommendation_to_theme.index = Recommendation_to_theme.index.set_names(['Recommendation id'])\n",
    "Recommendation_to_theme = Recommendation_to_theme.reset_index(level=0)"
   ]
  },
  {
   "cell_type": "code",
   "execution_count": null,
   "metadata": {},
   "outputs": [],
   "source": [
    "Recommendation_to_theme = Recommendation_to_theme.merge(Themes_df, left_on='Themes', right_on='Themes')\n",
    "Recommendation_to_theme = Recommendation_to_theme.drop(columns=['Themes']).rename(columns={'Theme id':'Themes'})"
   ]
  },
  {
   "cell_type": "code",
   "execution_count": null,
   "metadata": {},
   "outputs": [],
   "source": [
    "tags_to_themes = pd.melt(tags_matrix, value_vars=tags_matrix.columns.tolist(), var_name='Tag', value_name='Theme')\n",
    "tags_to_themes = tags_to_themes.merge(tags_df[[\"Tags\",\"Tag id\"]], left_on='Tag', right_on='Tags').drop(columns=['Tags', 'Tag'])\n",
    "tags_to_themes = tags_to_themes.merge(Themes_df[[\"Themes\",\"Theme id\"]], left_on='Theme', right_on='Themes').drop(columns=['Themes', 'Theme'])"
   ]
  },
  {
   "cell_type": "markdown",
   "metadata": {},
   "source": [
    "### Normalized join table Dataframes"
   ]
  },
  {
   "cell_type": "code",
   "execution_count": null,
   "metadata": {},
   "outputs": [],
   "source": [
    "Country_to_recommendations"
   ]
  },
  {
   "cell_type": "code",
   "execution_count": null,
   "metadata": {},
   "outputs": [],
   "source": [
    "Recommendation_to_theme"
   ]
  },
  {
   "cell_type": "code",
   "execution_count": null,
   "metadata": {},
   "outputs": [],
   "source": [
    "tags_to_themes"
   ]
  },
  {
   "cell_type": "markdown",
   "metadata": {},
   "source": [
    "#### Upload tables to Production schema"
   ]
  },
  {
   "cell_type": "markdown",
   "metadata": {},
   "source": []
  }
 ],
 "metadata": {
  "language_info": {
   "name": "python"
  },
  "orig_nbformat": 4
 },
 "nbformat": 4,
 "nbformat_minor": 2
}

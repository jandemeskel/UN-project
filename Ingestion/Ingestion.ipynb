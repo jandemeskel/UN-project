{
 "cells": [
  {
   "cell_type": "code",
   "execution_count": null,
   "metadata": {},
   "outputs": [],
   "source": [
    "# !pip3 install openpyxl\n",
    "import os, pandas as pd\n",
    "from dotenv import load_dotenv\n",
    "from utility import Utils as U\n"
   ]
  },
  {
   "attachments": {},
   "cell_type": "markdown",
   "metadata": {},
   "source": [
    "### Data source is currently a CSV\n",
    "### Later on this will be improved to be a webscraper or a data dump to an S3 bucket"
   ]
  },
  {
   "cell_type": "code",
   "execution_count": null,
   "metadata": {},
   "outputs": [],
   "source": [
    "UPR_cycle = pd.read_excel(r'UPR_cycle2.xlsx')\n",
    "tags_matrix = pd.read_excel(r'themes_to_tags.xlsx')"
   ]
  },
  {
   "cell_type": "code",
   "execution_count": null,
   "metadata": {},
   "outputs": [],
   "source": [
    "UPR_cycle.index+=1\n",
    "UPR_cycle.rename(columns={\"Reccomending Body\": \"Recommending Body\", \"UPR Reccomending States\": \"UPR Recommending States\"}, inplace=True)"
   ]
  },
  {
   "attachments": {},
   "cell_type": "markdown",
   "metadata": {},
   "source": [
    "# Data Wrangling"
   ]
  },
  {
   "attachments": {},
   "cell_type": "markdown",
   "metadata": {},
   "source": [
    "##### - Check unique number of text & annotation id to establish primary key\n",
    "##### - Both have 625 unique entries which is the same as the total database entries\n",
    "##### - Normalise by removing one of these, two identifiers is uneccesary we are not gaining anymore information"
   ]
  },
  {
   "cell_type": "code",
   "execution_count": null,
   "metadata": {},
   "outputs": [],
   "source": [
    "text_count = UPR_cycle.Text.unique().size\n",
    "print(text_count)"
   ]
  },
  {
   "cell_type": "code",
   "execution_count": null,
   "metadata": {},
   "outputs": [],
   "source": [
    "annotation_id_count = UPR_cycle[\"OHCHR Annotation Id\"].unique().size\n",
    "print(annotation_id_count)"
   ]
  },
  {
   "attachments": {},
   "cell_type": "markdown",
   "metadata": {},
   "source": [
    "##### Columns to be dropped\n",
    "##### Annotation ID, Recommending body, Text, Affected persons, Sdgs, Document publication date, session, date\n",
    "##### check all entries are recommendation by seeing if text starts with number, then drop this column. "
   ]
  },
  {
   "cell_type": "code",
   "execution_count": null,
   "metadata": {},
   "outputs": [],
   "source": [
    "drop_columns = [\"OHCHR Annotation Id\",\"Recommending Body\", \"Document Publication Date\", \"Sdgs\", \"UPR Session\", \"Date of publication on UHRI\", \"Affected Persons\"]\n",
    "UPR_cycle.drop(drop_columns, inplace=True, axis=1)"
   ]
  },
  {
   "cell_type": "code",
   "execution_count": null,
   "metadata": {},
   "outputs": [],
   "source": [
    "UPR_cycle = UPR_cycle[UPR_cycle['Text'].apply(lambda x: U.has_numbers(x))]\n",
    "UPR_cycle.drop(['Type'], inplace=True, axis=1)\n",
    "UPR_cycle.index =UPR_cycle.index.set_names(['Recommendation_id'])"
   ]
  },
  {
   "attachments": {},
   "cell_type": "markdown",
   "metadata": {},
   "source": [
    "#### Standardize the naming convention, by removing hyphens and spaces, of all data entries."
   ]
  },
  {
   "cell_type": "code",
   "execution_count": null,
   "metadata": {},
   "outputs": [],
   "source": [
    "UPR_cycle_cleaned = U.add_empty_cell_string(UPR_cycle)\n",
    "UPR_cycle_cleaned['Themes'] = UPR_cycle_cleaned['Themes'].str.split('\\n')\n",
    "UPR_cycle_unnested = UPR_cycle_cleaned.explode('Themes')"
   ]
  },
  {
   "cell_type": "code",
   "execution_count": null,
   "metadata": {},
   "outputs": [],
   "source": [
    "UPR_cycle_unnested = UPR_cycle_unnested.applymap(lambda x: U.remove_leading_char(str(x)))\n",
    "UPR_cycle_unnested['Recommending Regions'] = UPR_cycle_unnested['Recommending Regions'].str.split('\\n')\n",
    "UPR_cycle_unnested['UPR Recommending States'] = UPR_cycle_unnested['UPR Recommending States'].str.split('\\n')\n",
    "UPR_cycle_unnested = UPR_cycle_unnested.explode(['UPR Recommending States', 'Recommending Regions'])\n",
    "UPR_cycle_unnested = UPR_cycle_unnested.applymap(lambda x: U.remove_leading_char(str(x)))"
   ]
  },
  {
   "attachments": {},
   "cell_type": "markdown",
   "metadata": {},
   "source": [
    "#### Define all staging schema tables \n",
    "* Recommendations\n",
    "* Countries\n",
    "* Regions\n",
    "* Themes\n",
    "* Tags"
   ]
  },
  {
   "cell_type": "code",
   "execution_count": null,
   "metadata": {},
   "outputs": [],
   "source": [
    "Recommendations_df = UPR_cycle[['Text', 'UPR Position']].applymap(lambda x: U.remove_leading_char(str(x)))\n",
    "Recommendations_df= Recommendations_df.reset_index(level=0)"
   ]
  },
  {
   "cell_type": "code",
   "execution_count": null,
   "metadata": {},
   "outputs": [],
   "source": [
    "c1 = UPR_cycle_unnested[['Countries Concerned','Regions Concerned']].rename(columns={\"Countries Concerned\":\"Country name\", \"Regions Concerned\": \"Regions\"})\n",
    "c2 = UPR_cycle_unnested[['UPR Recommending States', 'Recommending Regions']].rename(columns={\"UPR Recommending States\":\"Country name\", \"Recommending Regions\": \"Regions\"})\n",
    "Countries_df = pd.concat([c1,c2], ignore_index=True).drop_duplicates(subset=['Country name'], keep='first')\n",
    "Countries_df = Countries_df.reset_index(drop='True')\n",
    "Countries_df.index = Countries_df.index.set_names(['Country id'])\n",
    "Countries_df.index+=1\n",
    "Countries_df = Countries_df.reset_index()"
   ]
  },
  {
   "cell_type": "code",
   "execution_count": null,
   "metadata": {},
   "outputs": [],
   "source": [
    "Regions_df = pd.DataFrame(Countries_df['Regions'].unique(), columns=['Regions'])\n",
    "Regions_df.index = Regions_df.index.set_names(['Region id'])\n",
    "Regions_df.index+=1\n",
    "Regions_df = Regions_df.reset_index(level=0)"
   ]
  },
  {
   "cell_type": "code",
   "execution_count": null,
   "metadata": {},
   "outputs": [],
   "source": [
    "Themes_df = pd.DataFrame(UPR_cycle_unnested['Themes'].unique(), columns=['Themes'])\n",
    "Themes_df.index = Themes_df.index.set_names(['Theme id'])\n",
    "Themes_df.index+=1\n",
    "Themes_df = Themes_df.reset_index(level=0)"
   ]
  },
  {
   "cell_type": "code",
   "execution_count": null,
   "metadata": {},
   "outputs": [],
   "source": [
    "tags_df = pd.DataFrame(tags_matrix.columns,columns=['Tags'] )\n",
    "tags_df.index = tags_df.index.set_names(['Tag id'])\n",
    "tags_df.index +=1\n",
    "tags_df = tags_df.reset_index()"
   ]
  },
  {
   "attachments": {},
   "cell_type": "markdown",
   "metadata": {},
   "source": [
    "### Standardized Dataframes"
   ]
  },
  {
   "cell_type": "code",
   "execution_count": null,
   "metadata": {},
   "outputs": [],
   "source": [
    "Recommendations_df"
   ]
  },
  {
   "cell_type": "code",
   "execution_count": null,
   "metadata": {},
   "outputs": [],
   "source": [
    "Countries_df"
   ]
  },
  {
   "cell_type": "code",
   "execution_count": null,
   "metadata": {},
   "outputs": [],
   "source": [
    "Regions_df"
   ]
  },
  {
   "cell_type": "code",
   "execution_count": null,
   "metadata": {},
   "outputs": [],
   "source": [
    "Themes_df"
   ]
  },
  {
   "cell_type": "code",
   "execution_count": null,
   "metadata": {},
   "outputs": [],
   "source": [
    "tags_df"
   ]
  },
  {
   "cell_type": "code",
   "execution_count": null,
   "metadata": {},
   "outputs": [],
   "source": [
    "tags_matrix"
   ]
  },
  {
   "attachments": {},
   "cell_type": "markdown",
   "metadata": {},
   "source": [
    "#### Upload tables to staging schema"
   ]
  },
  {
   "cell_type": "markdown",
   "metadata": {},
   "source": [
    "add in secrets to obscure db connection path"
   ]
  },
  {
   "cell_type": "code",
   "execution_count": null,
   "metadata": {},
   "outputs": [],
   "source": [
    "load_dotenv()\n",
    "conn = U.create_db_connection(os.getenv('username'), os.getenv('password'),os.getenv('db_host'),os.getenv('db_name') )"
   ]
  },
  {
   "cell_type": "code",
   "execution_count": null,
   "metadata": {},
   "outputs": [],
   "source": [
    "# this is a bit repetitive  is there a better solution?"
   ]
  },
  {
   "cell_type": "code",
   "execution_count": 25,
   "metadata": {},
   "outputs": [],
   "source": [
    "Countries_df.to_sql(name='Countries', con=conn, if_exists='replace', schema='Staging')"
   ]
  },
  {
   "cell_type": "code",
   "execution_count": null,
   "metadata": {},
   "outputs": [],
   "source": [
    "U.upload_staging_data(Countries_df, conn, 'Countries', 'Staging')\n"
   ]
  },
  {
   "cell_type": "code",
   "execution_count": null,
   "metadata": {},
   "outputs": [],
   "source": [
    "U.upload_staging_data(Themes_df, conn, 'Themes', 'Staging')\n",
    "U.upload_staging_data(Regions_df, conn, 'Regions', 'Staging')\n",
    "U.upload_staging_data(Recommendations_df, conn, 'Recommendations', 'Staging')\n",
    "U.upload_staging_data(tags_df, conn, 'Tags')\n",
    "U.upload_staging_data(tags_matrix, conn, 'TagsMatrix', 'Staging')"
   ]
  }
 ],
 "metadata": {
  "kernelspec": {
   "display_name": "Python 3.10.6 64-bit",
   "language": "python",
   "name": "python3"
  },
  "language_info": {
   "codemirror_mode": {
    "name": "ipython",
    "version": 3
   },
   "file_extension": ".py",
   "mimetype": "text/x-python",
   "name": "python",
   "nbconvert_exporter": "python",
   "pygments_lexer": "ipython3",
   "version": "3.10.2"
  },
  "orig_nbformat": 4,
  "vscode": {
   "interpreter": {
    "hash": "b0fa6594d8f4cbf19f97940f81e996739fb7646882a419484c72d19e05852a7e"
   }
  }
 },
 "nbformat": 4,
 "nbformat_minor": 2
}

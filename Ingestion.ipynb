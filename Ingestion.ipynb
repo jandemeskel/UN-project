{
 "cells": [
  {
   "cell_type": "code",
   "execution_count": 85,
   "metadata": {},
   "outputs": [
    {
     "name": "stdout",
     "output_type": "stream",
     "text": [
      "Requirement already satisfied: openpyxl in c:\\python310\\lib\\site-packages (3.1.1)\n",
      "Requirement already satisfied: et-xmlfile in c:\\python310\\lib\\site-packages (from openpyxl) (1.1.0)\n"
     ]
    },
    {
     "name": "stderr",
     "output_type": "stream",
     "text": [
      "WARNING: Ignoring invalid distribution -ip (c:\\python310\\lib\\site-packages)\n",
      "WARNING: Ignoring invalid distribution -ip (c:\\python310\\lib\\site-packages)\n",
      "WARNING: Ignoring invalid distribution -ip (c:\\python310\\lib\\site-packages)\n",
      "WARNING: Ignoring invalid distribution -ip (c:\\python310\\lib\\site-packages)\n",
      "WARNING: Ignoring invalid distribution -ip (c:\\python310\\lib\\site-packages)\n",
      "WARNING: Ignoring invalid distribution -ip (c:\\python310\\lib\\site-packages)\n",
      "WARNING: You are using pip version 21.2.4; however, version 23.0.1 is available.\n",
      "You should consider upgrading via the 'C:\\Python310\\python.exe -m pip install --upgrade pip' command.\n"
     ]
    }
   ],
   "source": [
    "!pip3 install openpyxl\n",
    "import pandas as pd\n",
    "import re\n"
   ]
  },
  {
   "cell_type": "code",
   "execution_count": 86,
   "metadata": {},
   "outputs": [],
   "source": [
    "df = pd.read_excel(r'C:\\Users\\john_\\Desktop\\UN-project\\UPR_cycle2.xlsx')"
   ]
  },
  {
   "cell_type": "code",
   "execution_count": 87,
   "metadata": {},
   "outputs": [
    {
     "data": {
      "text/html": [
       "<div>\n",
       "<style scoped>\n",
       "    .dataframe tbody tr th:only-of-type {\n",
       "        vertical-align: middle;\n",
       "    }\n",
       "\n",
       "    .dataframe tbody tr th {\n",
       "        vertical-align: top;\n",
       "    }\n",
       "\n",
       "    .dataframe thead th {\n",
       "        text-align: right;\n",
       "    }\n",
       "</style>\n",
       "<table border=\"1\" class=\"dataframe\">\n",
       "  <thead>\n",
       "    <tr style=\"text-align: right;\">\n",
       "      <th></th>\n",
       "      <th>Text</th>\n",
       "      <th>Countries Concerned</th>\n",
       "      <th>Reccomending Body</th>\n",
       "      <th>Document Symbol</th>\n",
       "      <th>Themes</th>\n",
       "      <th>Affected Persons</th>\n",
       "      <th>Sdgs</th>\n",
       "      <th>Document Publication Date</th>\n",
       "      <th>UPR Reccomending States</th>\n",
       "      <th>UPR Position</th>\n",
       "      <th>Type</th>\n",
       "      <th>OHCHR Annotation Id</th>\n",
       "      <th>UPR Session</th>\n",
       "      <th>Regions Concerned</th>\n",
       "      <th>Recommending Regions</th>\n",
       "      <th>Date of publication on UHRI</th>\n",
       "    </tr>\n",
       "  </thead>\n",
       "  <tbody>\n",
       "    <tr>\n",
       "      <th>1</th>\n",
       "      <td>117.22 Promptly ratify the Optional Protocol t...</td>\n",
       "      <td>- Uganda</td>\n",
       "      <td>- UPR</td>\n",
       "      <td>A/HRC/34/10</td>\n",
       "      <td>- Labour rights and right to work\\n- Ratificat...</td>\n",
       "      <td>- Indigenous peoples</td>\n",
       "      <td>NaN</td>\n",
       "      <td>2016-12-27</td>\n",
       "      <td>- Guatemala</td>\n",
       "      <td>- Noted</td>\n",
       "      <td>- Recommendations</td>\n",
       "      <td>4100eed4-fcf7-42d6-941a-a89493e77e6c</td>\n",
       "      <td>- 26th Session - Cycle 2</td>\n",
       "      <td>- Africa</td>\n",
       "      <td>- Latin America and the Caribbean</td>\n",
       "      <td>2018-06-20 13:50:21.503</td>\n",
       "    </tr>\n",
       "    <tr>\n",
       "      <th>2</th>\n",
       "      <td>133.247 Ensure full and equal access to modern...</td>\n",
       "      <td>- Venezuela (Bolivarian Republic of)</td>\n",
       "      <td>- UPR</td>\n",
       "      <td>A/HRC/34/6</td>\n",
       "      <td>- Sexual &amp; reproductive health and rights</td>\n",
       "      <td>- Indigenous peoples\\n- Persons living in rura...</td>\n",
       "      <td>NaN</td>\n",
       "      <td>2016-12-27</td>\n",
       "      <td>- Denmark</td>\n",
       "      <td>- Supported</td>\n",
       "      <td>- Recommendations</td>\n",
       "      <td>f910ce5d-0d1c-45de-b64b-3050df7679dc</td>\n",
       "      <td>- 26th Session - Cycle 2</td>\n",
       "      <td>- Latin America and the Caribbean</td>\n",
       "      <td>- Western Europe &amp; Others</td>\n",
       "      <td>2018-05-04 12:18:58.713</td>\n",
       "    </tr>\n",
       "  </tbody>\n",
       "</table>\n",
       "</div>"
      ],
      "text/plain": [
       "                                                Text  \\\n",
       "1  117.22 Promptly ratify the Optional Protocol t...   \n",
       "2  133.247 Ensure full and equal access to modern...   \n",
       "\n",
       "                    Countries Concerned Reccomending Body Document Symbol  \\\n",
       "1                              - Uganda             - UPR     A/HRC/34/10   \n",
       "2  - Venezuela (Bolivarian Republic of)             - UPR      A/HRC/34/6   \n",
       "\n",
       "                                              Themes  \\\n",
       "1  - Labour rights and right to work\\n- Ratificat...   \n",
       "2          - Sexual & reproductive health and rights   \n",
       "\n",
       "                                    Affected Persons Sdgs  \\\n",
       "1                               - Indigenous peoples  NaN   \n",
       "2  - Indigenous peoples\\n- Persons living in rura...  NaN   \n",
       "\n",
       "  Document Publication Date UPR Reccomending States UPR Position  \\\n",
       "1                2016-12-27             - Guatemala      - Noted   \n",
       "2                2016-12-27               - Denmark  - Supported   \n",
       "\n",
       "                Type                   OHCHR Annotation Id  \\\n",
       "1  - Recommendations  4100eed4-fcf7-42d6-941a-a89493e77e6c   \n",
       "2  - Recommendations  f910ce5d-0d1c-45de-b64b-3050df7679dc   \n",
       "\n",
       "                UPR Session                  Regions Concerned  \\\n",
       "1  - 26th Session - Cycle 2                           - Africa   \n",
       "2  - 26th Session - Cycle 2  - Latin America and the Caribbean   \n",
       "\n",
       "                Recommending Regions Date of publication on UHRI  \n",
       "1  - Latin America and the Caribbean     2018-06-20 13:50:21.503  \n",
       "2          - Western Europe & Others     2018-05-04 12:18:58.713  "
      ]
     },
     "execution_count": 87,
     "metadata": {},
     "output_type": "execute_result"
    }
   ],
   "source": [
    "df.index+=1\n",
    "df.head(2)"
   ]
  },
  {
   "attachments": {},
   "cell_type": "markdown",
   "metadata": {},
   "source": [
    "# Data Cleaning"
   ]
  },
  {
   "attachments": {},
   "cell_type": "markdown",
   "metadata": {},
   "source": [
    "##### - Check unique number of text & annotation id to establish primary key\n",
    "##### - Both have 625 unique entries which is the same as the total database entries\n",
    "##### - Normalise by removing one of these, two identifiers is uneccesary we are not gaining anymore information"
   ]
  },
  {
   "cell_type": "code",
   "execution_count": 88,
   "metadata": {},
   "outputs": [
    {
     "name": "stdout",
     "output_type": "stream",
     "text": [
      "625\n"
     ]
    }
   ],
   "source": [
    "text_count = df.Text.unique().size\n",
    "print(text_count)"
   ]
  },
  {
   "cell_type": "code",
   "execution_count": 89,
   "metadata": {},
   "outputs": [
    {
     "name": "stdout",
     "output_type": "stream",
     "text": [
      "625\n"
     ]
    }
   ],
   "source": [
    "annotation_id_count = df[\"OHCHR Annotation Id\"].unique().size\n",
    "print(annotation_id_count)"
   ]
  },
  {
   "attachments": {},
   "cell_type": "markdown",
   "metadata": {},
   "source": [
    "##### Columns to be dropped\n",
    "##### Annotation ID, Recommending body, Text, Affected persons, Sdgs, Document publication date, session, date\n",
    "##### check all entries are recommendation by seeing if text starts with number, then drop this column. "
   ]
  },
  {
   "cell_type": "code",
   "execution_count": 90,
   "metadata": {},
   "outputs": [],
   "source": [
    "drop_columns = [\"OHCHR Annotation Id\",\"Reccomending Body\", \"Document Publication Date\", \"Sdgs\", \"UPR Session\", \"Date of publication on UHRI\", \"Affected Persons\"]"
   ]
  },
  {
   "cell_type": "code",
   "execution_count": 91,
   "metadata": {},
   "outputs": [],
   "source": [
    "df.drop(drop_columns, inplace=True, axis=1)"
   ]
  },
  {
   "cell_type": "code",
   "execution_count": 92,
   "metadata": {},
   "outputs": [
    {
     "data": {
      "text/html": [
       "<div>\n",
       "<style scoped>\n",
       "    .dataframe tbody tr th:only-of-type {\n",
       "        vertical-align: middle;\n",
       "    }\n",
       "\n",
       "    .dataframe tbody tr th {\n",
       "        vertical-align: top;\n",
       "    }\n",
       "\n",
       "    .dataframe thead th {\n",
       "        text-align: right;\n",
       "    }\n",
       "</style>\n",
       "<table border=\"1\" class=\"dataframe\">\n",
       "  <thead>\n",
       "    <tr style=\"text-align: right;\">\n",
       "      <th></th>\n",
       "      <th>Text</th>\n",
       "      <th>Countries Concerned</th>\n",
       "      <th>Document Symbol</th>\n",
       "      <th>Themes</th>\n",
       "      <th>UPR Reccomending States</th>\n",
       "      <th>UPR Position</th>\n",
       "      <th>Type</th>\n",
       "      <th>Regions Concerned</th>\n",
       "      <th>Recommending Regions</th>\n",
       "    </tr>\n",
       "  </thead>\n",
       "  <tbody>\n",
       "    <tr>\n",
       "      <th>1</th>\n",
       "      <td>117.22 Promptly ratify the Optional Protocol t...</td>\n",
       "      <td>- Uganda</td>\n",
       "      <td>A/HRC/34/10</td>\n",
       "      <td>- Labour rights and right to work\\n- Ratificat...</td>\n",
       "      <td>- Guatemala</td>\n",
       "      <td>- Noted</td>\n",
       "      <td>- Recommendations</td>\n",
       "      <td>- Africa</td>\n",
       "      <td>- Latin America and the Caribbean</td>\n",
       "    </tr>\n",
       "    <tr>\n",
       "      <th>2</th>\n",
       "      <td>133.247 Ensure full and equal access to modern...</td>\n",
       "      <td>- Venezuela (Bolivarian Republic of)</td>\n",
       "      <td>A/HRC/34/6</td>\n",
       "      <td>- Sexual &amp; reproductive health and rights</td>\n",
       "      <td>- Denmark</td>\n",
       "      <td>- Supported</td>\n",
       "      <td>- Recommendations</td>\n",
       "      <td>- Latin America and the Caribbean</td>\n",
       "      <td>- Western Europe &amp; Others</td>\n",
       "    </tr>\n",
       "  </tbody>\n",
       "</table>\n",
       "</div>"
      ],
      "text/plain": [
       "                                                Text  \\\n",
       "1  117.22 Promptly ratify the Optional Protocol t...   \n",
       "2  133.247 Ensure full and equal access to modern...   \n",
       "\n",
       "                    Countries Concerned Document Symbol  \\\n",
       "1                              - Uganda     A/HRC/34/10   \n",
       "2  - Venezuela (Bolivarian Republic of)      A/HRC/34/6   \n",
       "\n",
       "                                              Themes UPR Reccomending States  \\\n",
       "1  - Labour rights and right to work\\n- Ratificat...             - Guatemala   \n",
       "2          - Sexual & reproductive health and rights               - Denmark   \n",
       "\n",
       "  UPR Position               Type                  Regions Concerned  \\\n",
       "1      - Noted  - Recommendations                           - Africa   \n",
       "2  - Supported  - Recommendations  - Latin America and the Caribbean   \n",
       "\n",
       "                Recommending Regions  \n",
       "1  - Latin America and the Caribbean  \n",
       "2          - Western Europe & Others  "
      ]
     },
     "execution_count": 92,
     "metadata": {},
     "output_type": "execute_result"
    }
   ],
   "source": [
    "df.head(2)"
   ]
  },
  {
   "cell_type": "code",
   "execution_count": 93,
   "metadata": {},
   "outputs": [],
   "source": [
    "def has_numbers(inputString):\n",
    "    return bool(re.search(r'\\d', inputString))"
   ]
  },
  {
   "cell_type": "code",
   "execution_count": 94,
   "metadata": {},
   "outputs": [],
   "source": [
    "df = df[df['Text'].apply(lambda x: has_numbers(x))]\n",
    "df.drop(['Text', 'Type'], inplace=True, axis=1)"
   ]
  },
  {
   "cell_type": "code",
   "execution_count": 95,
   "metadata": {},
   "outputs": [
    {
     "data": {
      "text/html": [
       "<div>\n",
       "<style scoped>\n",
       "    .dataframe tbody tr th:only-of-type {\n",
       "        vertical-align: middle;\n",
       "    }\n",
       "\n",
       "    .dataframe tbody tr th {\n",
       "        vertical-align: top;\n",
       "    }\n",
       "\n",
       "    .dataframe thead th {\n",
       "        text-align: right;\n",
       "    }\n",
       "</style>\n",
       "<table border=\"1\" class=\"dataframe\">\n",
       "  <thead>\n",
       "    <tr style=\"text-align: right;\">\n",
       "      <th></th>\n",
       "      <th>Countries Concerned</th>\n",
       "      <th>Document Symbol</th>\n",
       "      <th>Themes</th>\n",
       "      <th>UPR Reccomending States</th>\n",
       "      <th>UPR Position</th>\n",
       "      <th>Regions Concerned</th>\n",
       "      <th>Recommending Regions</th>\n",
       "    </tr>\n",
       "    <tr>\n",
       "      <th>Recommendation_id</th>\n",
       "      <th></th>\n",
       "      <th></th>\n",
       "      <th></th>\n",
       "      <th></th>\n",
       "      <th></th>\n",
       "      <th></th>\n",
       "      <th></th>\n",
       "    </tr>\n",
       "  </thead>\n",
       "  <tbody>\n",
       "    <tr>\n",
       "      <th>1</th>\n",
       "      <td>- Uganda</td>\n",
       "      <td>A/HRC/34/10</td>\n",
       "      <td>- Labour rights and right to work\\n- Ratificat...</td>\n",
       "      <td>- Guatemala</td>\n",
       "      <td>- Noted</td>\n",
       "      <td>- Africa</td>\n",
       "      <td>- Latin America and the Caribbean</td>\n",
       "    </tr>\n",
       "    <tr>\n",
       "      <th>2</th>\n",
       "      <td>- Venezuela (Bolivarian Republic of)</td>\n",
       "      <td>A/HRC/34/6</td>\n",
       "      <td>- Sexual &amp; reproductive health and rights</td>\n",
       "      <td>- Denmark</td>\n",
       "      <td>- Supported</td>\n",
       "      <td>- Latin America and the Caribbean</td>\n",
       "      <td>- Western Europe &amp; Others</td>\n",
       "    </tr>\n",
       "  </tbody>\n",
       "</table>\n",
       "</div>"
      ],
      "text/plain": [
       "                                    Countries Concerned Document Symbol  \\\n",
       "Recommendation_id                                                         \n",
       "1                                              - Uganda     A/HRC/34/10   \n",
       "2                  - Venezuela (Bolivarian Republic of)      A/HRC/34/6   \n",
       "\n",
       "                                                              Themes  \\\n",
       "Recommendation_id                                                      \n",
       "1                  - Labour rights and right to work\\n- Ratificat...   \n",
       "2                          - Sexual & reproductive health and rights   \n",
       "\n",
       "                  UPR Reccomending States UPR Position  \\\n",
       "Recommendation_id                                        \n",
       "1                             - Guatemala      - Noted   \n",
       "2                               - Denmark  - Supported   \n",
       "\n",
       "                                   Regions Concerned  \\\n",
       "Recommendation_id                                      \n",
       "1                                           - Africa   \n",
       "2                  - Latin America and the Caribbean   \n",
       "\n",
       "                                Recommending Regions  \n",
       "Recommendation_id                                     \n",
       "1                  - Latin America and the Caribbean  \n",
       "2                          - Western Europe & Others  "
      ]
     },
     "execution_count": 95,
     "metadata": {},
     "output_type": "execute_result"
    }
   ],
   "source": [
    "df.index = df.index.set_names(['Recommendation_id'])\n",
    "df.head(2)"
   ]
  },
  {
   "attachments": {},
   "cell_type": "markdown",
   "metadata": {},
   "source": [
    "#### Standardize the naming convention, by removing hyphens and spaces, of all columns apart from index and document symbol"
   ]
  },
  {
   "cell_type": "code",
   "execution_count": null,
   "metadata": {},
   "outputs": [],
   "source": []
  },
  {
   "cell_type": "code",
   "execution_count": 96,
   "metadata": {},
   "outputs": [
    {
     "data": {
      "text/plain": [
       "['tag1', 'tag2']"
      ]
     },
     "execution_count": 96,
     "metadata": {},
     "output_type": "execute_result"
    }
   ],
   "source": [
    "theme_matrix = {'ratification': ['tag1', 'tag2'], 'next_theme':'tag1'}\n",
    "theme_matrix['ratification']"
   ]
  }
 ],
 "metadata": {
  "kernelspec": {
   "display_name": "Python 3",
   "language": "python",
   "name": "python3"
  },
  "language_info": {
   "codemirror_mode": {
    "name": "ipython",
    "version": 3
   },
   "file_extension": ".py",
   "mimetype": "text/x-python",
   "name": "python",
   "nbconvert_exporter": "python",
   "pygments_lexer": "ipython3",
   "version": "3.10.2"
  },
  "orig_nbformat": 4,
  "vscode": {
   "interpreter": {
    "hash": "369f2c481f4da34e4445cda3fffd2e751bd1c4d706f27375911949ba6bb62e1c"
   }
  }
 },
 "nbformat": 4,
 "nbformat_minor": 2
}

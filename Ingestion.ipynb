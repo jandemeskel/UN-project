{
 "cells": [
  {
   "cell_type": "code",
   "execution_count": 241,
   "metadata": {},
   "outputs": [
    {
     "name": "stdout",
     "output_type": "stream",
     "text": [
      "Requirement already satisfied: openpyxl in c:\\python310\\lib\\site-packages (3.1.1)\n",
      "Requirement already satisfied: et-xmlfile in c:\\python310\\lib\\site-packages (from openpyxl) (1.1.0)\n"
     ]
    },
    {
     "name": "stderr",
     "output_type": "stream",
     "text": [
      "WARNING: Ignoring invalid distribution -ip (c:\\python310\\lib\\site-packages)\n",
      "WARNING: Ignoring invalid distribution -ip (c:\\python310\\lib\\site-packages)\n",
      "WARNING: Ignoring invalid distribution -ip (c:\\python310\\lib\\site-packages)\n",
      "WARNING: Ignoring invalid distribution -ip (c:\\python310\\lib\\site-packages)\n",
      "WARNING: Ignoring invalid distribution -ip (c:\\python310\\lib\\site-packages)\n",
      "WARNING: Ignoring invalid distribution -ip (c:\\python310\\lib\\site-packages)\n",
      "WARNING: You are using pip version 21.2.4; however, version 23.0.1 is available.\n",
      "You should consider upgrading via the 'C:\\Python310\\python.exe -m pip install --upgrade pip' command.\n"
     ]
    }
   ],
   "source": [
    "!pip3 install openpyxl\n",
    "import pandas as pd\n",
    "import re\n"
   ]
  },
  {
   "cell_type": "code",
   "execution_count": 242,
   "metadata": {},
   "outputs": [],
   "source": [
    "df = pd.read_excel(r'C:\\Users\\john_\\Desktop\\UN-project\\UPR_cycle2.xlsx')"
   ]
  },
  {
   "cell_type": "code",
   "execution_count": 243,
   "metadata": {},
   "outputs": [
    {
     "data": {
      "text/html": [
       "<div>\n",
       "<style scoped>\n",
       "    .dataframe tbody tr th:only-of-type {\n",
       "        vertical-align: middle;\n",
       "    }\n",
       "\n",
       "    .dataframe tbody tr th {\n",
       "        vertical-align: top;\n",
       "    }\n",
       "\n",
       "    .dataframe thead th {\n",
       "        text-align: right;\n",
       "    }\n",
       "</style>\n",
       "<table border=\"1\" class=\"dataframe\">\n",
       "  <thead>\n",
       "    <tr style=\"text-align: right;\">\n",
       "      <th></th>\n",
       "      <th>Text</th>\n",
       "      <th>Countries Concerned</th>\n",
       "      <th>Reccomending Body</th>\n",
       "      <th>Document Symbol</th>\n",
       "      <th>Themes</th>\n",
       "      <th>Affected Persons</th>\n",
       "      <th>Sdgs</th>\n",
       "      <th>Document Publication Date</th>\n",
       "      <th>UPR Reccomending States</th>\n",
       "      <th>UPR Position</th>\n",
       "      <th>Type</th>\n",
       "      <th>OHCHR Annotation Id</th>\n",
       "      <th>UPR Session</th>\n",
       "      <th>Regions Concerned</th>\n",
       "      <th>Recommending Regions</th>\n",
       "      <th>Date of publication on UHRI</th>\n",
       "    </tr>\n",
       "  </thead>\n",
       "  <tbody>\n",
       "    <tr>\n",
       "      <th>1</th>\n",
       "      <td>117.22 Promptly ratify the Optional Protocol t...</td>\n",
       "      <td>- Uganda</td>\n",
       "      <td>- UPR</td>\n",
       "      <td>A/HRC/34/10</td>\n",
       "      <td>- Labour rights and right to work\\n- Ratificat...</td>\n",
       "      <td>- Indigenous peoples</td>\n",
       "      <td>NaN</td>\n",
       "      <td>2016-12-27</td>\n",
       "      <td>- Guatemala</td>\n",
       "      <td>- Noted</td>\n",
       "      <td>- Recommendations</td>\n",
       "      <td>4100eed4-fcf7-42d6-941a-a89493e77e6c</td>\n",
       "      <td>- 26th Session - Cycle 2</td>\n",
       "      <td>- Africa</td>\n",
       "      <td>- Latin America and the Caribbean</td>\n",
       "      <td>2018-06-20 13:50:21.503</td>\n",
       "    </tr>\n",
       "    <tr>\n",
       "      <th>2</th>\n",
       "      <td>133.247 Ensure full and equal access to modern...</td>\n",
       "      <td>- Venezuela (Bolivarian Republic of)</td>\n",
       "      <td>- UPR</td>\n",
       "      <td>A/HRC/34/6</td>\n",
       "      <td>- Sexual &amp; reproductive health and rights</td>\n",
       "      <td>- Indigenous peoples\\n- Persons living in rura...</td>\n",
       "      <td>NaN</td>\n",
       "      <td>2016-12-27</td>\n",
       "      <td>- Denmark</td>\n",
       "      <td>- Supported</td>\n",
       "      <td>- Recommendations</td>\n",
       "      <td>f910ce5d-0d1c-45de-b64b-3050df7679dc</td>\n",
       "      <td>- 26th Session - Cycle 2</td>\n",
       "      <td>- Latin America and the Caribbean</td>\n",
       "      <td>- Western Europe &amp; Others</td>\n",
       "      <td>2018-05-04 12:18:58.713</td>\n",
       "    </tr>\n",
       "  </tbody>\n",
       "</table>\n",
       "</div>"
      ],
      "text/plain": [
       "                                                Text  \\\n",
       "1  117.22 Promptly ratify the Optional Protocol t...   \n",
       "2  133.247 Ensure full and equal access to modern...   \n",
       "\n",
       "                    Countries Concerned Reccomending Body Document Symbol  \\\n",
       "1                              - Uganda             - UPR     A/HRC/34/10   \n",
       "2  - Venezuela (Bolivarian Republic of)             - UPR      A/HRC/34/6   \n",
       "\n",
       "                                              Themes  \\\n",
       "1  - Labour rights and right to work\\n- Ratificat...   \n",
       "2          - Sexual & reproductive health and rights   \n",
       "\n",
       "                                    Affected Persons Sdgs  \\\n",
       "1                               - Indigenous peoples  NaN   \n",
       "2  - Indigenous peoples\\n- Persons living in rura...  NaN   \n",
       "\n",
       "  Document Publication Date UPR Reccomending States UPR Position  \\\n",
       "1                2016-12-27             - Guatemala      - Noted   \n",
       "2                2016-12-27               - Denmark  - Supported   \n",
       "\n",
       "                Type                   OHCHR Annotation Id  \\\n",
       "1  - Recommendations  4100eed4-fcf7-42d6-941a-a89493e77e6c   \n",
       "2  - Recommendations  f910ce5d-0d1c-45de-b64b-3050df7679dc   \n",
       "\n",
       "                UPR Session                  Regions Concerned  \\\n",
       "1  - 26th Session - Cycle 2                           - Africa   \n",
       "2  - 26th Session - Cycle 2  - Latin America and the Caribbean   \n",
       "\n",
       "                Recommending Regions Date of publication on UHRI  \n",
       "1  - Latin America and the Caribbean     2018-06-20 13:50:21.503  \n",
       "2          - Western Europe & Others     2018-05-04 12:18:58.713  "
      ]
     },
     "execution_count": 243,
     "metadata": {},
     "output_type": "execute_result"
    }
   ],
   "source": [
    "df.index+=1\n",
    "df.head(2)"
   ]
  },
  {
   "attachments": {},
   "cell_type": "markdown",
   "metadata": {},
   "source": [
    "# Data Cleaning"
   ]
  },
  {
   "attachments": {},
   "cell_type": "markdown",
   "metadata": {},
   "source": [
    "##### - Check unique number of text & annotation id to establish primary key\n",
    "##### - Both have 625 unique entries which is the same as the total database entries\n",
    "##### - Normalise by removing one of these, two identifiers is uneccesary we are not gaining anymore information"
   ]
  },
  {
   "cell_type": "code",
   "execution_count": 244,
   "metadata": {},
   "outputs": [
    {
     "name": "stdout",
     "output_type": "stream",
     "text": [
      "625\n"
     ]
    }
   ],
   "source": [
    "text_count = df.Text.unique().size\n",
    "print(text_count)"
   ]
  },
  {
   "cell_type": "code",
   "execution_count": 245,
   "metadata": {},
   "outputs": [
    {
     "name": "stdout",
     "output_type": "stream",
     "text": [
      "625\n"
     ]
    }
   ],
   "source": [
    "annotation_id_count = df[\"OHCHR Annotation Id\"].unique().size\n",
    "print(annotation_id_count)"
   ]
  },
  {
   "attachments": {},
   "cell_type": "markdown",
   "metadata": {},
   "source": [
    "##### Columns to be dropped\n",
    "##### Annotation ID, Recommending body, Text, Affected persons, Sdgs, Document publication date, session, date\n",
    "##### check all entries are recommendation by seeing if text starts with number, then drop this column. "
   ]
  },
  {
   "cell_type": "code",
   "execution_count": 246,
   "metadata": {},
   "outputs": [],
   "source": [
    "drop_columns = [\"OHCHR Annotation Id\",\"Reccomending Body\", \"Document Publication Date\", \"Sdgs\", \"UPR Session\", \"Date of publication on UHRI\", \"Affected Persons\"]"
   ]
  },
  {
   "cell_type": "code",
   "execution_count": 247,
   "metadata": {},
   "outputs": [],
   "source": [
    "df.drop(drop_columns, inplace=True, axis=1)"
   ]
  },
  {
   "cell_type": "code",
   "execution_count": 248,
   "metadata": {},
   "outputs": [
    {
     "data": {
      "text/html": [
       "<div>\n",
       "<style scoped>\n",
       "    .dataframe tbody tr th:only-of-type {\n",
       "        vertical-align: middle;\n",
       "    }\n",
       "\n",
       "    .dataframe tbody tr th {\n",
       "        vertical-align: top;\n",
       "    }\n",
       "\n",
       "    .dataframe thead th {\n",
       "        text-align: right;\n",
       "    }\n",
       "</style>\n",
       "<table border=\"1\" class=\"dataframe\">\n",
       "  <thead>\n",
       "    <tr style=\"text-align: right;\">\n",
       "      <th></th>\n",
       "      <th>Text</th>\n",
       "      <th>Countries Concerned</th>\n",
       "      <th>Document Symbol</th>\n",
       "      <th>Themes</th>\n",
       "      <th>UPR Reccomending States</th>\n",
       "      <th>UPR Position</th>\n",
       "      <th>Type</th>\n",
       "      <th>Regions Concerned</th>\n",
       "      <th>Recommending Regions</th>\n",
       "    </tr>\n",
       "  </thead>\n",
       "  <tbody>\n",
       "    <tr>\n",
       "      <th>1</th>\n",
       "      <td>117.22 Promptly ratify the Optional Protocol t...</td>\n",
       "      <td>- Uganda</td>\n",
       "      <td>A/HRC/34/10</td>\n",
       "      <td>- Labour rights and right to work\\n- Ratificat...</td>\n",
       "      <td>- Guatemala</td>\n",
       "      <td>- Noted</td>\n",
       "      <td>- Recommendations</td>\n",
       "      <td>- Africa</td>\n",
       "      <td>- Latin America and the Caribbean</td>\n",
       "    </tr>\n",
       "    <tr>\n",
       "      <th>2</th>\n",
       "      <td>133.247 Ensure full and equal access to modern...</td>\n",
       "      <td>- Venezuela (Bolivarian Republic of)</td>\n",
       "      <td>A/HRC/34/6</td>\n",
       "      <td>- Sexual &amp; reproductive health and rights</td>\n",
       "      <td>- Denmark</td>\n",
       "      <td>- Supported</td>\n",
       "      <td>- Recommendations</td>\n",
       "      <td>- Latin America and the Caribbean</td>\n",
       "      <td>- Western Europe &amp; Others</td>\n",
       "    </tr>\n",
       "  </tbody>\n",
       "</table>\n",
       "</div>"
      ],
      "text/plain": [
       "                                                Text  \\\n",
       "1  117.22 Promptly ratify the Optional Protocol t...   \n",
       "2  133.247 Ensure full and equal access to modern...   \n",
       "\n",
       "                    Countries Concerned Document Symbol  \\\n",
       "1                              - Uganda     A/HRC/34/10   \n",
       "2  - Venezuela (Bolivarian Republic of)      A/HRC/34/6   \n",
       "\n",
       "                                              Themes UPR Reccomending States  \\\n",
       "1  - Labour rights and right to work\\n- Ratificat...             - Guatemala   \n",
       "2          - Sexual & reproductive health and rights               - Denmark   \n",
       "\n",
       "  UPR Position               Type                  Regions Concerned  \\\n",
       "1      - Noted  - Recommendations                           - Africa   \n",
       "2  - Supported  - Recommendations  - Latin America and the Caribbean   \n",
       "\n",
       "                Recommending Regions  \n",
       "1  - Latin America and the Caribbean  \n",
       "2          - Western Europe & Others  "
      ]
     },
     "execution_count": 248,
     "metadata": {},
     "output_type": "execute_result"
    }
   ],
   "source": [
    "df.head(2)"
   ]
  },
  {
   "cell_type": "code",
   "execution_count": 249,
   "metadata": {},
   "outputs": [],
   "source": [
    "def has_numbers(inputString):\n",
    "    return bool(re.search(r'\\d', inputString))"
   ]
  },
  {
   "cell_type": "code",
   "execution_count": 250,
   "metadata": {},
   "outputs": [],
   "source": [
    "df = df[df['Text'].apply(lambda x: has_numbers(x))]\n",
    "df.drop(['Text', 'Type'], inplace=True, axis=1)"
   ]
  },
  {
   "cell_type": "code",
   "execution_count": 251,
   "metadata": {},
   "outputs": [
    {
     "data": {
      "text/html": [
       "<div>\n",
       "<style scoped>\n",
       "    .dataframe tbody tr th:only-of-type {\n",
       "        vertical-align: middle;\n",
       "    }\n",
       "\n",
       "    .dataframe tbody tr th {\n",
       "        vertical-align: top;\n",
       "    }\n",
       "\n",
       "    .dataframe thead th {\n",
       "        text-align: right;\n",
       "    }\n",
       "</style>\n",
       "<table border=\"1\" class=\"dataframe\">\n",
       "  <thead>\n",
       "    <tr style=\"text-align: right;\">\n",
       "      <th></th>\n",
       "      <th>Countries Concerned</th>\n",
       "      <th>Document Symbol</th>\n",
       "      <th>Themes</th>\n",
       "      <th>UPR Reccomending States</th>\n",
       "      <th>UPR Position</th>\n",
       "      <th>Regions Concerned</th>\n",
       "      <th>Recommending Regions</th>\n",
       "    </tr>\n",
       "    <tr>\n",
       "      <th>Recommendation_id</th>\n",
       "      <th></th>\n",
       "      <th></th>\n",
       "      <th></th>\n",
       "      <th></th>\n",
       "      <th></th>\n",
       "      <th></th>\n",
       "      <th></th>\n",
       "    </tr>\n",
       "  </thead>\n",
       "  <tbody>\n",
       "    <tr>\n",
       "      <th>1</th>\n",
       "      <td>- Uganda</td>\n",
       "      <td>A/HRC/34/10</td>\n",
       "      <td>- Labour rights and right to work\\n- Ratificat...</td>\n",
       "      <td>- Guatemala</td>\n",
       "      <td>- Noted</td>\n",
       "      <td>- Africa</td>\n",
       "      <td>- Latin America and the Caribbean</td>\n",
       "    </tr>\n",
       "    <tr>\n",
       "      <th>2</th>\n",
       "      <td>- Venezuela (Bolivarian Republic of)</td>\n",
       "      <td>A/HRC/34/6</td>\n",
       "      <td>- Sexual &amp; reproductive health and rights</td>\n",
       "      <td>- Denmark</td>\n",
       "      <td>- Supported</td>\n",
       "      <td>- Latin America and the Caribbean</td>\n",
       "      <td>- Western Europe &amp; Others</td>\n",
       "    </tr>\n",
       "  </tbody>\n",
       "</table>\n",
       "</div>"
      ],
      "text/plain": [
       "                                    Countries Concerned Document Symbol  \\\n",
       "Recommendation_id                                                         \n",
       "1                                              - Uganda     A/HRC/34/10   \n",
       "2                  - Venezuela (Bolivarian Republic of)      A/HRC/34/6   \n",
       "\n",
       "                                                              Themes  \\\n",
       "Recommendation_id                                                      \n",
       "1                  - Labour rights and right to work\\n- Ratificat...   \n",
       "2                          - Sexual & reproductive health and rights   \n",
       "\n",
       "                  UPR Reccomending States UPR Position  \\\n",
       "Recommendation_id                                        \n",
       "1                             - Guatemala      - Noted   \n",
       "2                               - Denmark  - Supported   \n",
       "\n",
       "                                   Regions Concerned  \\\n",
       "Recommendation_id                                      \n",
       "1                                           - Africa   \n",
       "2                  - Latin America and the Caribbean   \n",
       "\n",
       "                                Recommending Regions  \n",
       "Recommendation_id                                     \n",
       "1                  - Latin America and the Caribbean  \n",
       "2                          - Western Europe & Others  "
      ]
     },
     "execution_count": 251,
     "metadata": {},
     "output_type": "execute_result"
    }
   ],
   "source": [
    "df.index = df.index.set_names(['Recommendation_id'])\n",
    "df.head(2)"
   ]
  },
  {
   "attachments": {},
   "cell_type": "markdown",
   "metadata": {},
   "source": [
    "#### Standardize the naming convention, by removing hyphens and spaces, of all data entries."
   ]
  },
  {
   "cell_type": "code",
   "execution_count": 252,
   "metadata": {},
   "outputs": [],
   "source": [
    "def remove_leading_char(data_entry):\n",
    "    \"\"\"\"Clean the naming convention for data entries of all columns\"\"\"\n",
    "    clean_aff = re.sub(r'^[^A-Z]*', ' ', data_entry)\n",
    "    if clean_aff:\n",
    "        return clean_aff"
   ]
  },
  {
   "cell_type": "code",
   "execution_count": 253,
   "metadata": {},
   "outputs": [
    {
     "ename": "TypeError",
     "evalue": "expected string or bytes-like object",
     "output_type": "error",
     "traceback": [
      "\u001b[1;31m---------------------------------------------------------------------------\u001b[0m",
      "\u001b[1;31mTypeError\u001b[0m                                 Traceback (most recent call last)",
      "Cell \u001b[1;32mIn [253], line 1\u001b[0m\n\u001b[1;32m----> 1\u001b[0m df2 \u001b[39m=\u001b[39m df[\u001b[39m\"\u001b[39;49m\u001b[39mUPR Reccomending States\u001b[39;49m\u001b[39m\"\u001b[39;49m]\u001b[39m.\u001b[39;49mapply(\u001b[39mlambda\u001b[39;49;00m x: remove_leading_char(x))\n",
      "File \u001b[1;32mc:\\Python310\\lib\\site-packages\\pandas\\core\\series.py:4771\u001b[0m, in \u001b[0;36mSeries.apply\u001b[1;34m(self, func, convert_dtype, args, **kwargs)\u001b[0m\n\u001b[0;32m   4661\u001b[0m \u001b[39mdef\u001b[39;00m \u001b[39mapply\u001b[39m(\n\u001b[0;32m   4662\u001b[0m     \u001b[39mself\u001b[39m,\n\u001b[0;32m   4663\u001b[0m     func: AggFuncType,\n\u001b[1;32m   (...)\u001b[0m\n\u001b[0;32m   4666\u001b[0m     \u001b[39m*\u001b[39m\u001b[39m*\u001b[39mkwargs,\n\u001b[0;32m   4667\u001b[0m ) \u001b[39m-\u001b[39m\u001b[39m>\u001b[39m DataFrame \u001b[39m|\u001b[39m Series:\n\u001b[0;32m   4668\u001b[0m     \u001b[39m\"\"\"\u001b[39;00m\n\u001b[0;32m   4669\u001b[0m \u001b[39m    Invoke function on values of Series.\u001b[39;00m\n\u001b[0;32m   4670\u001b[0m \n\u001b[1;32m   (...)\u001b[0m\n\u001b[0;32m   4769\u001b[0m \u001b[39m    dtype: float64\u001b[39;00m\n\u001b[0;32m   4770\u001b[0m \u001b[39m    \"\"\"\u001b[39;00m\n\u001b[1;32m-> 4771\u001b[0m     \u001b[39mreturn\u001b[39;00m SeriesApply(\u001b[39mself\u001b[39;49m, func, convert_dtype, args, kwargs)\u001b[39m.\u001b[39;49mapply()\n",
      "File \u001b[1;32mc:\\Python310\\lib\\site-packages\\pandas\\core\\apply.py:1105\u001b[0m, in \u001b[0;36mSeriesApply.apply\u001b[1;34m(self)\u001b[0m\n\u001b[0;32m   1102\u001b[0m     \u001b[39mreturn\u001b[39;00m \u001b[39mself\u001b[39m\u001b[39m.\u001b[39mapply_str()\n\u001b[0;32m   1104\u001b[0m \u001b[39m# self.f is Callable\u001b[39;00m\n\u001b[1;32m-> 1105\u001b[0m \u001b[39mreturn\u001b[39;00m \u001b[39mself\u001b[39;49m\u001b[39m.\u001b[39;49mapply_standard()\n",
      "File \u001b[1;32mc:\\Python310\\lib\\site-packages\\pandas\\core\\apply.py:1156\u001b[0m, in \u001b[0;36mSeriesApply.apply_standard\u001b[1;34m(self)\u001b[0m\n\u001b[0;32m   1154\u001b[0m     \u001b[39melse\u001b[39;00m:\n\u001b[0;32m   1155\u001b[0m         values \u001b[39m=\u001b[39m obj\u001b[39m.\u001b[39mastype(\u001b[39mobject\u001b[39m)\u001b[39m.\u001b[39m_values\n\u001b[1;32m-> 1156\u001b[0m         mapped \u001b[39m=\u001b[39m lib\u001b[39m.\u001b[39;49mmap_infer(\n\u001b[0;32m   1157\u001b[0m             values,\n\u001b[0;32m   1158\u001b[0m             f,\n\u001b[0;32m   1159\u001b[0m             convert\u001b[39m=\u001b[39;49m\u001b[39mself\u001b[39;49m\u001b[39m.\u001b[39;49mconvert_dtype,\n\u001b[0;32m   1160\u001b[0m         )\n\u001b[0;32m   1162\u001b[0m \u001b[39mif\u001b[39;00m \u001b[39mlen\u001b[39m(mapped) \u001b[39mand\u001b[39;00m \u001b[39misinstance\u001b[39m(mapped[\u001b[39m0\u001b[39m], ABCSeries):\n\u001b[0;32m   1163\u001b[0m     \u001b[39m# GH#43986 Need to do list(mapped) in order to get treated as nested\u001b[39;00m\n\u001b[0;32m   1164\u001b[0m     \u001b[39m#  See also GH#25959 regarding EA support\u001b[39;00m\n\u001b[0;32m   1165\u001b[0m     \u001b[39mreturn\u001b[39;00m obj\u001b[39m.\u001b[39m_constructor_expanddim(\u001b[39mlist\u001b[39m(mapped), index\u001b[39m=\u001b[39mobj\u001b[39m.\u001b[39mindex)\n",
      "File \u001b[1;32mc:\\Python310\\lib\\site-packages\\pandas\\_libs\\lib.pyx:2918\u001b[0m, in \u001b[0;36mpandas._libs.lib.map_infer\u001b[1;34m()\u001b[0m\n",
      "Cell \u001b[1;32mIn [253], line 1\u001b[0m, in \u001b[0;36m<lambda>\u001b[1;34m(x)\u001b[0m\n\u001b[1;32m----> 1\u001b[0m df2 \u001b[39m=\u001b[39m df[\u001b[39m\"\u001b[39m\u001b[39mUPR Reccomending States\u001b[39m\u001b[39m\"\u001b[39m]\u001b[39m.\u001b[39mapply(\u001b[39mlambda\u001b[39;00m x: remove_leading_char(x))\n",
      "Cell \u001b[1;32mIn [252], line 3\u001b[0m, in \u001b[0;36mremove_leading_char\u001b[1;34m(data_entry)\u001b[0m\n\u001b[0;32m      1\u001b[0m \u001b[39mdef\u001b[39;00m \u001b[39mremove_leading_char\u001b[39m(data_entry):\n\u001b[0;32m      2\u001b[0m     \u001b[39m\"\"\"\"Clean the naming convention for data entries of all columns\"\"\"\u001b[39;00m\n\u001b[1;32m----> 3\u001b[0m     clean_aff \u001b[39m=\u001b[39m re\u001b[39m.\u001b[39;49msub(\u001b[39mr\u001b[39;49m\u001b[39m'\u001b[39;49m\u001b[39m^[^A-Z]*\u001b[39;49m\u001b[39m'\u001b[39;49m, \u001b[39m'\u001b[39;49m\u001b[39m \u001b[39;49m\u001b[39m'\u001b[39;49m, data_entry)\n\u001b[0;32m      4\u001b[0m     \u001b[39mif\u001b[39;00m clean_aff:\n\u001b[0;32m      5\u001b[0m         \u001b[39mreturn\u001b[39;00m clean_aff\n",
      "File \u001b[1;32mc:\\Python310\\lib\\re.py:209\u001b[0m, in \u001b[0;36msub\u001b[1;34m(pattern, repl, string, count, flags)\u001b[0m\n\u001b[0;32m    202\u001b[0m \u001b[39mdef\u001b[39;00m \u001b[39msub\u001b[39m(pattern, repl, string, count\u001b[39m=\u001b[39m\u001b[39m0\u001b[39m, flags\u001b[39m=\u001b[39m\u001b[39m0\u001b[39m):\n\u001b[0;32m    203\u001b[0m     \u001b[39m\"\"\"Return the string obtained by replacing the leftmost\u001b[39;00m\n\u001b[0;32m    204\u001b[0m \u001b[39m    non-overlapping occurrences of the pattern in string by the\u001b[39;00m\n\u001b[0;32m    205\u001b[0m \u001b[39m    replacement repl.  repl can be either a string or a callable;\u001b[39;00m\n\u001b[0;32m    206\u001b[0m \u001b[39m    if a string, backslash escapes in it are processed.  If it is\u001b[39;00m\n\u001b[0;32m    207\u001b[0m \u001b[39m    a callable, it's passed the Match object and must return\u001b[39;00m\n\u001b[0;32m    208\u001b[0m \u001b[39m    a replacement string to be used.\"\"\"\u001b[39;00m\n\u001b[1;32m--> 209\u001b[0m     \u001b[39mreturn\u001b[39;00m _compile(pattern, flags)\u001b[39m.\u001b[39;49msub(repl, string, count)\n",
      "\u001b[1;31mTypeError\u001b[0m: expected string or bytes-like object"
     ]
    }
   ],
   "source": [
    "df2 = df[\"UPR Reccomending States\"].apply(lambda x: remove_leading_char(x))"
   ]
  },
  {
   "cell_type": "code",
   "execution_count": null,
   "metadata": {},
   "outputs": [],
   "source": [
    "df2"
   ]
  },
  {
   "cell_type": "code",
   "execution_count": null,
   "metadata": {},
   "outputs": [],
   "source": [
    "theme_matrix = {'ratification': ['tag1', 'tag2'], 'next_theme':'tag1'}\n",
    "theme_matrix['ratification']"
   ]
  }
 ],
 "metadata": {
  "kernelspec": {
   "display_name": "Python 3",
   "language": "python",
   "name": "python3"
  },
  "language_info": {
   "codemirror_mode": {
    "name": "ipython",
    "version": 3
   },
   "file_extension": ".py",
   "mimetype": "text/x-python",
   "name": "python",
   "nbconvert_exporter": "python",
   "pygments_lexer": "ipython3",
   "version": "3.10.2"
  },
  "orig_nbformat": 4,
  "vscode": {
   "interpreter": {
    "hash": "369f2c481f4da34e4445cda3fffd2e751bd1c4d706f27375911949ba6bb62e1c"
   }
  }
 },
 "nbformat": 4,
 "nbformat_minor": 2
}
